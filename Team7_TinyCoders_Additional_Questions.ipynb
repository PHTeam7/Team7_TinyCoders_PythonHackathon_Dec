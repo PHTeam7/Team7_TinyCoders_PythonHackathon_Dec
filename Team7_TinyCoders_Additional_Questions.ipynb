{
 "cells": [
  {
   "cell_type": "code",
   "execution_count": 2,
   "id": "4b21a743",
   "metadata": {},
   "outputs": [],
   "source": [
    "import numpy as np\n",
    "import pandas as pd\n",
    "import matplotlib.pyplot as plt\n",
    "import seaborn as sns\n",
    "import warnings\n",
    "from datetime import datetime, date\n",
    "import plotly.express as px\n",
    "import calendar\n",
    "import random\n",
    "import re\n",
    "warnings.filterwarnings(\"ignore\")\n",
    "%matplotlib inline"
   ]
  },
  {
   "cell_type": "code",
   "execution_count": 3,
   "id": "de6023b3",
   "metadata": {},
   "outputs": [],
   "source": [
    "df_grades = pd.read_excel(\"Exam Stress Final.xlsx\",\"Grades\")\n",
    "df_demography = pd.read_excel(\"Exam Stress Final.xlsx\",\"Demography\")\n",
    "df_eda = pd.read_excel(\"Exam Stress Final.xlsx\",\"EDA\")\n",
    "df_hr = pd.read_excel(\"Exam Stress Final.xlsx\",\"HR\")\n",
    "df_temp = pd.read_excel(\"Exam Stress Final.xlsx\",\"Temp\")\n",
    "df_ibi = pd.read_excel(\"Exam Stress Final.xlsx\",\"IBI\")"
   ]
  },
  {
   "cell_type": "code",
   "execution_count": 4,
   "id": "a5daf5b6",
   "metadata": {},
   "outputs": [],
   "source": [
    "df_eda['Student_id'].replace('S010','S10',inplace = True)\n",
    "df_hr['Student_id'].replace('S010','S10',inplace = True)\n",
    "df_temp['Student_id'].replace('S010','S10',inplace = True)\n",
    "df_ibi['Student_id'].replace('S010','S10',inplace = True)\n",
    "df_ibi['Student_id'].replace('S010','S10',inplace = True)\n",
    "df_eda['Exam'].replace('midterm 1','Midterm 1', inplace = True)\n",
    "df_eda['Exam'].replace('midterm 2','Midterm 2', inplace = True)\n",
    "df_ibi['Exam'].replace('midterm 1','Midterm 1', inplace = True)\n",
    "df_ibi['Exam'].replace('midterm 2','Midterm 2', inplace = True)"
   ]
  },
  {
   "cell_type": "markdown",
   "id": "b6f58cbf",
   "metadata": {},
   "source": [
    "# Create a new column 'HR_category' based on the quartiles of 'HR' values, where 1 represents the lowest quartile and 4 represents the highest quartile."
   ]
  },
  {
   "cell_type": "code",
   "execution_count": 40,
   "id": "42e9cdeb",
   "metadata": {},
   "outputs": [
    {
     "data": {
      "text/html": [
       "<div>\n",
       "<style scoped>\n",
       "    .dataframe tbody tr th:only-of-type {\n",
       "        vertical-align: middle;\n",
       "    }\n",
       "\n",
       "    .dataframe tbody tr th {\n",
       "        vertical-align: top;\n",
       "    }\n",
       "\n",
       "    .dataframe thead th {\n",
       "        text-align: right;\n",
       "    }\n",
       "</style>\n",
       "<table border=\"1\" class=\"dataframe\">\n",
       "  <thead>\n",
       "    <tr style=\"text-align: right;\">\n",
       "      <th></th>\n",
       "      <th>HR</th>\n",
       "      <th>Time in mins</th>\n",
       "      <th>Student_id</th>\n",
       "      <th>Exam</th>\n",
       "      <th>HR_category</th>\n",
       "    </tr>\n",
       "  </thead>\n",
       "  <tbody>\n",
       "    <tr>\n",
       "      <th>0</th>\n",
       "      <td>119.023</td>\n",
       "      <td>1.0</td>\n",
       "      <td>S01</td>\n",
       "      <td>final</td>\n",
       "      <td>3</td>\n",
       "    </tr>\n",
       "    <tr>\n",
       "      <th>1</th>\n",
       "      <td>130.879</td>\n",
       "      <td>2.0</td>\n",
       "      <td>S01</td>\n",
       "      <td>final</td>\n",
       "      <td>4</td>\n",
       "    </tr>\n",
       "    <tr>\n",
       "      <th>2</th>\n",
       "      <td>131.586</td>\n",
       "      <td>3.0</td>\n",
       "      <td>S01</td>\n",
       "      <td>final</td>\n",
       "      <td>4</td>\n",
       "    </tr>\n",
       "    <tr>\n",
       "      <th>3</th>\n",
       "      <td>109.852</td>\n",
       "      <td>4.0</td>\n",
       "      <td>S01</td>\n",
       "      <td>final</td>\n",
       "      <td>3</td>\n",
       "    </tr>\n",
       "    <tr>\n",
       "      <th>4</th>\n",
       "      <td>81.178</td>\n",
       "      <td>5.0</td>\n",
       "      <td>S01</td>\n",
       "      <td>final</td>\n",
       "      <td>1</td>\n",
       "    </tr>\n",
       "    <tr>\n",
       "      <th>...</th>\n",
       "      <td>...</td>\n",
       "      <td>...</td>\n",
       "      <td>...</td>\n",
       "      <td>...</td>\n",
       "      <td>...</td>\n",
       "    </tr>\n",
       "    <tr>\n",
       "      <th>7367</th>\n",
       "      <td>141.667</td>\n",
       "      <td>212.0</td>\n",
       "      <td>S10</td>\n",
       "      <td>Midterm 2</td>\n",
       "      <td>4</td>\n",
       "    </tr>\n",
       "    <tr>\n",
       "      <th>7368</th>\n",
       "      <td>162.584</td>\n",
       "      <td>213.0</td>\n",
       "      <td>S10</td>\n",
       "      <td>Midterm 2</td>\n",
       "      <td>4</td>\n",
       "    </tr>\n",
       "    <tr>\n",
       "      <th>7369</th>\n",
       "      <td>171.387</td>\n",
       "      <td>214.0</td>\n",
       "      <td>S10</td>\n",
       "      <td>Midterm 2</td>\n",
       "      <td>4</td>\n",
       "    </tr>\n",
       "    <tr>\n",
       "      <th>7370</th>\n",
       "      <td>121.597</td>\n",
       "      <td>215.0</td>\n",
       "      <td>S10</td>\n",
       "      <td>Midterm 2</td>\n",
       "      <td>4</td>\n",
       "    </tr>\n",
       "    <tr>\n",
       "      <th>7371</th>\n",
       "      <td>109.165</td>\n",
       "      <td>216.0</td>\n",
       "      <td>S10</td>\n",
       "      <td>Midterm 2</td>\n",
       "      <td>3</td>\n",
       "    </tr>\n",
       "  </tbody>\n",
       "</table>\n",
       "<p>7372 rows × 5 columns</p>\n",
       "</div>"
      ],
      "text/plain": [
       "           HR  Time in mins Student_id       Exam HR_category\n",
       "0     119.023           1.0        S01      final           3\n",
       "1     130.879           2.0        S01      final           4\n",
       "2     131.586           3.0        S01      final           4\n",
       "3     109.852           4.0        S01      final           3\n",
       "4      81.178           5.0        S01      final           1\n",
       "...       ...           ...        ...        ...         ...\n",
       "7367  141.667         212.0        S10  Midterm 2           4\n",
       "7368  162.584         213.0        S10  Midterm 2           4\n",
       "7369  171.387         214.0        S10  Midterm 2           4\n",
       "7370  121.597         215.0        S10  Midterm 2           4\n",
       "7371  109.165         216.0        S10  Midterm 2           3\n",
       "\n",
       "[7372 rows x 5 columns]"
      ]
     },
     "execution_count": 40,
     "metadata": {},
     "output_type": "execute_result"
    }
   ],
   "source": [
    "df_hr['HR_category'] = pd.qcut(df_hr['HR'], q=[0, 0.25, 0.5, 0.75, 1], labels=[1, 2, 3, 4])\n",
    "\n",
    "df_hr.dropna()"
   ]
  },
  {
   "cell_type": "markdown",
   "id": "36d63444",
   "metadata": {},
   "source": [
    "# Find the highest temperature recorded during the 'final' exam"
   ]
  },
  {
   "cell_type": "code",
   "execution_count": 5,
   "id": "7ce104de",
   "metadata": {},
   "outputs": [
    {
     "name": "stdout",
     "output_type": "stream",
     "text": [
      "The highest temperature recorded during the 'final' exam is: 36.04\n"
     ]
    }
   ],
   "source": [
    "max_temp_final = df_temp[df_temp['Exam'] == 'final']['TEMP'].max()\n",
    "print(f\"The highest temperature recorded during the 'final' exam is: {max_temp_final:.2f}\")\n"
   ]
  },
  {
   "cell_type": "markdown",
   "id": "994f62ba",
   "metadata": {},
   "source": [
    "# Determine the student with the highest average EDA for all exams"
   ]
  },
  {
   "cell_type": "code",
   "execution_count": 15,
   "id": "3fa74890",
   "metadata": {},
   "outputs": [
    {
     "name": "stdout",
     "output_type": "stream",
     "text": [
      "The student with the highest average EDA for all exams is: S04\n"
     ]
    }
   ],
   "source": [
    "merged_data = pd.merge(df_eda, df_demography, on='Student_id')\n",
    "highest_avg_EDA_student = merged_data.groupby('Student_id')['EDA'].mean().idxmax()\n",
    "print(f\"The student with the highest average EDA for all exams is: {highest_avg_EDA_student}\")"
   ]
  },
  {
   "cell_type": "markdown",
   "id": "b30ad19b",
   "metadata": {},
   "source": [
    "# Identify the demographic details (DOB, First Name, Last Name) of the student who has the highest average heart rate (HR) across all exams."
   ]
  },
  {
   "cell_type": "code",
   "execution_count": 19,
   "id": "0d67f817",
   "metadata": {},
   "outputs": [
    {
     "name": "stdout",
     "output_type": "stream",
     "text": [
      "The student with the highest average heart rate is:\n",
      "\n"
     ]
    },
    {
     "data": {
      "text/html": [
       "<div>\n",
       "<style scoped>\n",
       "    .dataframe tbody tr th:only-of-type {\n",
       "        vertical-align: middle;\n",
       "    }\n",
       "\n",
       "    .dataframe tbody tr th {\n",
       "        vertical-align: top;\n",
       "    }\n",
       "\n",
       "    .dataframe thead th {\n",
       "        text-align: right;\n",
       "    }\n",
       "</style>\n",
       "<table border=\"1\" class=\"dataframe\">\n",
       "  <thead>\n",
       "    <tr style=\"text-align: right;\">\n",
       "      <th></th>\n",
       "      <th>DOB</th>\n",
       "      <th>First Name</th>\n",
       "      <th>Last Name</th>\n",
       "    </tr>\n",
       "  </thead>\n",
       "  <tbody>\n",
       "    <tr>\n",
       "      <th>760</th>\n",
       "      <td>2009-02-02</td>\n",
       "      <td>Nora</td>\n",
       "      <td>Jones</td>\n",
       "    </tr>\n",
       "  </tbody>\n",
       "</table>\n",
       "</div>"
      ],
      "text/plain": [
       "           DOB First Name Last Name\n",
       "760 2009-02-02       Nora     Jones"
      ]
     },
     "execution_count": 19,
     "metadata": {},
     "output_type": "execute_result"
    }
   ],
   "source": [
    "merged_data = pd.merge(df_hr, df_demography, on='Student_id')\n",
    "highest_avg_HR_student = merged_data.groupby('Student_id')['HR'].mean().idxmax()\n",
    "student_demographics = merged_data.loc[merged_data['Student_id'] == highest_avg_HR_student, ['DOB', 'First Name', 'Last Name']]\n",
    "\n",
    "print(f\"The student with the highest average heart rate is:\\n\")\n",
    "student_demographics.drop_duplicates()\n"
   ]
  },
  {
   "cell_type": "markdown",
   "id": "a39dd2f6",
   "metadata": {},
   "source": [
    "#  Calculate the correlation between 'TEMP' and 'HR' for the 'final' exam."
   ]
  },
  {
   "cell_type": "code",
   "execution_count": 20,
   "id": "5a50f1bd",
   "metadata": {},
   "outputs": [
    {
     "name": "stdout",
     "output_type": "stream",
     "text": [
      "The correlation between 'TEMP' and 'HR' for the 'final' exam is: -0.027\n"
     ]
    }
   ],
   "source": [
    "merged_data = pd.merge(df_temp,df_hr, on = ['Student_id','Exam'])\n",
    "correlation_temp_hr_final = merged_data[merged_data['Exam'] == 'final']['TEMP'].corr(merged_data[merged_data['Exam'] == 'final']['HR'])\n",
    "print(f\"The correlation between 'TEMP' and 'HR' for the 'final' exam is: {correlation_temp_hr_final:.3f}\")\n"
   ]
  },
  {
   "cell_type": "markdown",
   "id": "db410c94",
   "metadata": {},
   "source": [
    "# Calculate the standard deviation of the 'TEMP' values for the 'midterm 1"
   ]
  },
  {
   "cell_type": "code",
   "execution_count": 22,
   "id": "c0fdbf48",
   "metadata": {},
   "outputs": [
    {
     "name": "stdout",
     "output_type": "stream",
     "text": [
      "The standard deviation of 'TEMP' values for the 'midterm 1' exam is: 2.985\n"
     ]
    }
   ],
   "source": [
    "temp_std_dev_midterm1 = df_temp[df_temp['Exam'] == 'Midterm 1']['TEMP'].std()\n",
    "print(f\"The standard deviation of 'TEMP' values for the 'midterm 1' exam is: {temp_std_dev_midterm1:.3f}\")"
   ]
  },
  {
   "cell_type": "markdown",
   "id": "40e44c21",
   "metadata": {},
   "source": [
    "# Determine the correlation between 'EDA' and 'HR' for female students."
   ]
  },
  {
   "cell_type": "code",
   "execution_count": 28,
   "id": "b115b57b",
   "metadata": {},
   "outputs": [
    {
     "name": "stdout",
     "output_type": "stream",
     "text": [
      "The correlation between 'EDA' and 'HR' for female students is: -0.083\n"
     ]
    }
   ],
   "source": [
    "merged_data = pd.merge(pd.merge(df_eda,df_hr, on = ['Student_id','Exam']),df_demography, on= ['Student_id'])\n",
    "correlation_eda_hr_female = merged_data[merged_data['Gender'] == 'F']['EDA'].corr(merged_data[merged_data['Gender'] == 'F']['HR'])\n",
    "print(f\"The correlation between 'EDA' and 'HR' for female students is: {correlation_eda_hr_female:.3f}\")"
   ]
  },
  {
   "cell_type": "markdown",
   "id": "39b0ff46",
   "metadata": {},
   "source": [
    "# Compute the median of the 'HR' values during the 'final' exam for male students born before 2009."
   ]
  },
  {
   "cell_type": "code",
   "execution_count": 29,
   "id": "e711789f",
   "metadata": {},
   "outputs": [
    {
     "name": "stdout",
     "output_type": "stream",
     "text": [
      "The median 'HR' value during the 'final' exam for male students born before 2009 is: 97.653\n"
     ]
    }
   ],
   "source": [
    "merged_data = pd.merge(df_demography,df_hr, on = ['Student_id'])\n",
    "median_hr_male_before_2009 = merged_data[(merged_data['Gender'] == 'M') & (pd.to_datetime(merged_data['DOB']).dt.year < 2009) & (merged_data['Exam'] == 'final')]['HR'].median()\n",
    "print(f\"The median 'HR' value during the 'final' exam for male students born before 2009 is: {median_hr_male_before_2009:.3f}\")"
   ]
  },
  {
   "cell_type": "markdown",
   "id": "1a286fd7",
   "metadata": {},
   "source": [
    "# What is the average EDA (Electrodermal Activity) value during the 'final' exam for each student?"
   ]
  },
  {
   "cell_type": "code",
   "execution_count": 42,
   "id": "482e6f87",
   "metadata": {},
   "outputs": [
    {
     "name": "stdout",
     "output_type": "stream",
     "text": [
      "Average EDA during 'final' exam for each student:\n",
      "Student_id\n",
      "S01    0.103118\n",
      "S02    0.078360\n",
      "S03    0.169737\n",
      "S04    0.526800\n",
      "S05    0.542409\n",
      "S06    0.129932\n",
      "S07    0.212474\n",
      "S08    0.534721\n",
      "S09    0.402572\n",
      "S10    0.111297\n",
      "Name: EDA, dtype: float64\n"
     ]
    }
   ],
   "source": [
    "average_eda_final_exam = df_eda[df_eda['Exam'] == 'final'].groupby('Student_id')['EDA'].mean()\n",
    "\n",
    "# Display the result\n",
    "print(\"Average EDA during 'final' exam for each student:\")\n",
    "print(average_eda_final_exam)\n"
   ]
  },
  {
   "cell_type": "markdown",
   "id": "9529a075",
   "metadata": {},
   "source": [
    "# What is the distribution of gender among students who took the 'final' exam?"
   ]
  },
  {
   "cell_type": "code",
   "execution_count": 45,
   "id": "95af5423",
   "metadata": {},
   "outputs": [
    {
     "name": "stdout",
     "output_type": "stream",
     "text": [
      "Distribution of gender among students who took the 'final' exam:\n",
      "M    2\n",
      "F    1\n",
      "Name: Gender, dtype: int64\n"
     ]
    }
   ],
   "source": [
    "df = df_demography[df_demography['Race']=='African']\n",
    "gender_distribution_final_exam = df[df['Student_id'].isin(df_hr[df_hr['Exam'] == 'final']['Student_id'])]['Gender'].value_counts()\n",
    "\n",
    "# Display the result\n",
    "print(\"Distribution of gender among students who took the 'final' exam:\")\n",
    "print(gender_distribution_final_exam)\n"
   ]
  },
  {
   "cell_type": "markdown",
   "id": "8e2e3f00",
   "metadata": {},
   "source": [
    "# Visualize the distribution of IBI values during the 'final' exam for all students."
   ]
  },
  {
   "cell_type": "code",
   "execution_count": 5,
   "id": "fcead449",
   "metadata": {},
   "outputs": [
    {
     "data": {
      "image/png": "[encoded data removed]",
      "text/plain": [
       "<Figure size 1200x800 with 1 Axes>"
      ]
     },
     "metadata": {},
     "output_type": "display_data"
    }
   ],
   "source": [
    "final_exam_data = df_ibi[df_ibi['Exam'] == 'final']\n",
    "\n",
    "# Create a box plot\n",
    "plt.figure(figsize=(12, 8))\n",
    "sns.boxplot(x='Student_id', y='IBI', data=final_exam_data)\n",
    "plt.title('Distribution of IBI Values During the Final Exam')\n",
    "plt.xlabel('Student ID')\n",
    "plt.ylabel('IBI (Inter-Beat Interval)')\n",
    "plt.xticks(rotation=45, ha='right') \n",
    "plt.show()\n"
   ]
  },
  {
   "cell_type": "markdown",
   "id": "c82a32b0",
   "metadata": {},
   "source": [
    "# Merge the 'grades' table with the 'HR' table. Calculate the average heart rate for each student during 'midterm 1' and 'midterm 2'. Display the results."
   ]
  },
  {
   "cell_type": "code",
   "execution_count": 6,
   "id": "4573547f",
   "metadata": {},
   "outputs": [
    {
     "name": "stdout",
     "output_type": "stream",
     "text": [
      "  Student_id  Avg_HR_Midterm1  Avg_HR_Midterm2\n",
      "0        S01       103.074382       110.940849\n",
      "1        S02       111.395774       106.640307\n",
      "2        S03       105.680635        97.320165\n",
      "3        S04       110.393691        94.793126\n",
      "4        S05       108.237695       113.366352\n",
      "5        S06       106.884286       104.584475\n",
      "6        S07       112.336762        98.938350\n",
      "7        S08       113.836637       102.485442\n",
      "8        S09       108.151853       102.971478\n",
      "9        S10       107.044026       106.774833\n"
     ]
    }
   ],
   "source": [
    "# Merge the 'grades' and 'HR' tables on 'Student_id'\n",
    "merged_df = pd.merge(df_grades, df_hr, on='Student_id', how='inner')\n",
    "\n",
    "# Filter data for 'midterm 1' and 'midterm 2'\n",
    "midterm1_data = merged_df[merged_df['Exam'] == 'Midterm 1']\n",
    "midterm2_data = merged_df[merged_df['Exam'] == 'Midterm 2']\n",
    "\n",
    "# Calculate average heart rate for each student during 'midterm 1'\n",
    "avg_hr_midterm1 = midterm1_data.groupby('Student_id')['HR'].mean().reset_index()\n",
    "avg_hr_midterm1.rename(columns={'HR': 'Avg_HR_Midterm1'}, inplace=True)\n",
    "\n",
    "# Calculate average heart rate for each student during 'midterm 2'\n",
    "avg_hr_midterm2 = midterm2_data.groupby('Student_id')['HR'].mean().reset_index()\n",
    "avg_hr_midterm2.rename(columns={'HR': 'Avg_HR_Midterm2'}, inplace=True)\n",
    "\n",
    "# Merge the average heart rate tables\n",
    "avg_hr_results = pd.merge(avg_hr_midterm1, avg_hr_midterm2, on='Student_id', how='outer')\n",
    "\n",
    "# Display the results\n",
    "print(avg_hr_results)\n"
   ]
  },
  {
   "cell_type": "markdown",
   "id": "92f0724d",
   "metadata": {},
   "source": [
    "# Analyze the average grades for male and female students."
   ]
  },
  {
   "cell_type": "code",
   "execution_count": 8,
   "id": "9bb0e5cb",
   "metadata": {},
   "outputs": [
    {
     "data": {
      "text/html": [
       "<div>\n",
       "<style scoped>\n",
       "    .dataframe tbody tr th:only-of-type {\n",
       "        vertical-align: middle;\n",
       "    }\n",
       "\n",
       "    .dataframe tbody tr th {\n",
       "        vertical-align: top;\n",
       "    }\n",
       "\n",
       "    .dataframe thead th {\n",
       "        text-align: right;\n",
       "    }\n",
       "</style>\n",
       "<table border=\"1\" class=\"dataframe\">\n",
       "  <thead>\n",
       "    <tr style=\"text-align: right;\">\n",
       "      <th></th>\n",
       "      <th>Midterm 1</th>\n",
       "      <th>Midterm 2</th>\n",
       "      <th>final</th>\n",
       "    </tr>\n",
       "    <tr>\n",
       "      <th>Gender</th>\n",
       "      <th></th>\n",
       "      <th></th>\n",
       "      <th></th>\n",
       "    </tr>\n",
       "  </thead>\n",
       "  <tbody>\n",
       "    <tr>\n",
       "      <th>F</th>\n",
       "      <td>78.6</td>\n",
       "      <td>79.6</td>\n",
       "      <td>164.6</td>\n",
       "    </tr>\n",
       "    <tr>\n",
       "      <th>M</th>\n",
       "      <td>76.4</td>\n",
       "      <td>60.2</td>\n",
       "      <td>148.8</td>\n",
       "    </tr>\n",
       "  </tbody>\n",
       "</table>\n",
       "</div>"
      ],
      "text/plain": [
       "        Midterm 1  Midterm 2  final\n",
       "Gender                             \n",
       "F            78.6       79.6  164.6\n",
       "M            76.4       60.2  148.8"
      ]
     },
     "execution_count": 8,
     "metadata": {},
     "output_type": "execute_result"
    }
   ],
   "source": [
    "df_merged = pd.merge(df_grades,df_demography, on = ['Student_id'])\n",
    "df = df_merged.groupby('Gender')[['Midterm 1','Midterm 2','final']].mean()\n",
    "df"
   ]
  },
  {
   "cell_type": "code",
   "execution_count": null,
   "id": "adeb53f9",
   "metadata": {},
   "outputs": [],
   "source": []
  }
 ],
 "metadata": {
  "kernelspec": {
   "display_name": "Python 3 (ipykernel)",
   "language": "python",
   "name": "python3"
  },
  "language_info": {
   "codemirror_mode": {
    "name": "ipython",
    "version": 3
   },
   "file_extension": ".py",
   "mimetype": "text/x-python",
   "name": "python",
   "nbconvert_exporter": "python",
   "pygments_lexer": "ipython3",
   "version": "3.10.9"
  }
 },
 "nbformat": 4,
 "nbformat_minor": 5
}
